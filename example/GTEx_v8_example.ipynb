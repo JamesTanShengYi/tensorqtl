{
 "cells": [
  {
   "cell_type": "markdown",
   "id": "112329da",
   "metadata": {},
   "source": [
    "### GTEx v8 *cis*-eQTL mapping with tensorQTL\n",
    "\n",
    "The [GTEx v8](https://www.science.org/doi/10.1126/science.aaz1776) eQTLs available from the [GTEx Portal](https://gtexportal.org/) were mapped using FastQTL. This notebook illustrates how to reproduce the results using TensorQTL. \n",
    "\n",
    "*Note*: due to differences in processing (batching of calculations), no equivalent random seed can be set to obtain identical results from the permutations, but the results should closely match, with differences limited to eGenes close to the FDR threshold, as illustrated below.\n",
    "\n",
    "#### Input files\n",
    "\n",
    "The expression and covariate matrices can be downloaded from the [GTEx Portal](https://gtexportal.org/home/datasets), under `GTEx Analysis V8 > Single-Tissue cis-QTL Data`, in the archives `GTEx_Analysis_v8_eQTL_expression_matrices.tar` and `GTEx_Analysis_v8_eQTL_covariates.tar.gz`.\n",
    "\n",
    "The VCF must be obtained from dbGaP/AnVIL. Please see the GTEx Portal for [instructions on accessing GTEx protected data]((https://gtexportal.org/home/protectedDataAccess)).\n",
    "\n",
    "On AnVIL, the VCF can be found in the [V8 workspace](https://anvil.terra.bio/#workspaces/anvil-datastorage/AnVIL_GTEx_V8_hg38), in `GTEx_Analysis_2017-06-05_v8_WGS_VCF_files/GTEx_Analysis_2017-06-05_v8_WholeGenomeSeq_838Indiv_Analysis_Freeze.SHAPEIT2_phased.MAF01.vcf.gz`.\n",
    "\n",
    "The v8 eQTL results used for comparisons below can also be obtained from the GTEx Portal, in `GTEx_Analysis_v8_eQTL.tar` and full summary statistics can be download [here](https://console.cloud.google.com/storage/browser/gtex-resources).\n",
    "\n"
   ]
  },
  {
   "cell_type": "code",
   "execution_count": 1,
   "id": "6a7b82f2",
   "metadata": {},
   "outputs": [],
   "source": [
    "import pandas as pd\n",
    "import numpy as np\n",
    "import tensorqtl\n",
    "from tensorqtl import genotypeio, cis, post\n",
    "import qtl.plot\n",
    "\n",
    "import matplotlib.pyplot as plt\n",
    "plt.rcParams.update({'font.family': 'Helvetica', 'svg.fonttype':'none', 'pdf.fonttype':42})"
   ]
  },
  {
   "cell_type": "code",
   "execution_count": 2,
   "id": "9e80c278",
   "metadata": {},
   "outputs": [
    {
     "name": "stderr",
     "output_type": "stream",
     "text": [
      "Mapping files: 100%|██████████████████████████████████████████████████████████████████████████████████████████████████████████████████████████████████████████████████████████████████████████████████████████████| 3/3 [00:20<00:00,  6.91s/it]\n"
     ]
    }
   ],
   "source": [
    "plink_prefix_path = '/resources/vcfs/GTEx_Analysis_2017-06-05_v8_WholeGenomeSeq_838Indiv_Analysis_Freeze.SHAPEIT2_phased.MAF01'\n",
    "pr = genotypeio.PlinkReader(plink_prefix_path)\n",
    "genotype_df = pr.load_genotypes()\n",
    "variant_df = pr.bim.set_index('snp')[['chrom', 'pos']]\n"
   ]
  },
  {
   "cell_type": "code",
   "execution_count": 3,
   "id": "71203cbe",
   "metadata": {},
   "outputs": [],
   "source": [
    "tissue_id = 'Brain_Cortex'\n",
    "covariates_df = pd.read_csv(f\"/resources/V8_release/GTEx_Analysis_v8_eQTL_covariates/{tissue_id}.v8.covariates.txt\",\n",
    "                            sep='\\t', index_col=0).T\n",
    "phenotype_df, phenotype_pos_df = tensorqtl.read_phenotype_bed(\n",
    "    f'/resources/V8_release/GTEx_Analysis_v8_eQTL_expression_matrices/{tissue_id}.v8.normalized_expression.bed.gz')"
   ]
  },
  {
   "cell_type": "markdown",
   "id": "909ccfd1",
   "metadata": {},
   "source": [
    "#### Permutations"
   ]
  },
  {
   "cell_type": "code",
   "execution_count": 4,
   "id": "392adef1",
   "metadata": {
    "scrolled": true
   },
   "outputs": [
    {
     "name": "stdout",
     "output_type": "stream",
     "text": [
      "cis-QTL mapping: empirical p-values for phenotypes\n",
      "  * 205 samples\n",
      "  * 24849 phenotypes\n",
      "  * 38 covariates\n",
      "  * 10770860 variants\n",
      "  * using seed 3042235018\n",
      "  * checking phenotypes: 24849/24849\n",
      "  * computing permutations\n",
      "    processing phenotype 24849/24849\n",
      "  Time elapsed: 27.25 min\n",
      "done.\n",
      "Computing q-values\n",
      "  * Number of phenotypes tested: 24849\n",
      "  * Correlation between Beta-approximated and empirical p-values: 0.9999\n",
      "  * Calculating q-values with lambda = 0.850\n",
      "  * Proportion of significant phenotypes (1-pi0): 0.63\n",
      "  * QTL phenotypes @ FDR 0.05: 9072\n",
      "  * min p-value threshold @ FDR 0.05: 0.0488264\n"
     ]
    }
   ],
   "source": [
    "# run permutations and compute q-values\n",
    "cis_df = cis.map_cis(genotype_df, variant_df, phenotype_df, phenotype_pos_df,\n",
    "                     covariates_df=covariates_df, seed=3042235018, \n",
    "                     warn_monomorphic=False)\n",
    "post.calculate_qvalues(cis_df, fdr=0.05, qvalue_lambda=0.85)"
   ]
  },
  {
   "cell_type": "code",
   "execution_count": 5,
   "id": "99050092",
   "metadata": {},
   "outputs": [
    {
     "data": {
      "image/png": "[encoded data removed]",
      "text/plain": [
       "<Figure size 792x198 with 4 Axes>"
      ]
     },
     "metadata": {
      "needs_background": "light"
     },
     "output_type": "display_data"
    }
   ],
   "source": [
    "# load V8 results and plot comparisons\n",
    "egenes_v8_df = pd.read_csv(f'/resources/V8_release/GTEx_Analysis_v8_eQTL/{tissue_id}.v8.egenes.txt.gz',\n",
    "                           sep='\\t', index_col=0)\n",
    "\n",
    "args = {'ec':'none', 'alpha':0.5}\n",
    "ax = qtl.plot.get_axgrid(1, 4)\n",
    "ax[0].set_xscale('log')\n",
    "ax[0].set_yscale('log')\n",
    "ax[0].scatter(egenes_v8_df['pval_nominal'], cis_df['pval_nominal'], **args)\n",
    "ax[0].set_title('Nominal p-values', fontsize=12)\n",
    "ax[0].set_xlabel('FastQTL (v8)', fontsize=12)\n",
    "ax[0].set_ylabel('TensorQTL', fontsize=12)\n",
    "\n",
    "ax[1].set_xscale('log')\n",
    "ax[1].set_yscale('log')\n",
    "ax[1].scatter(egenes_v8_df['pval_beta'], cis_df['pval_beta'], **args)\n",
    "ax[1].set_title('Empirical p-values', fontsize=12)\n",
    "ax[1].set_xlabel('FastQTL (v8)', fontsize=12)\n",
    "\n",
    "ax[2].set_xscale('log')\n",
    "ax[2].set_yscale('log')\n",
    "ax[2].scatter(egenes_v8_df['qval'], cis_df['qval'], **args)\n",
    "ax[2].set_title('q-values', fontsize=12)\n",
    "ax[2].set_xlabel('FastQTL (v8)', fontsize=12);\n",
    "\n",
    "# zoom on FDR threshold\n",
    "ax[3].set_xscale('log')\n",
    "ax[3].set_yscale('log')\n",
    "ax[3].scatter(egenes_v8_df['qval'], cis_df['qval'], **args)\n",
    "ax[3].set_title('q-values (zoom)', fontsize=12)\n",
    "ax[3].set_xlabel('FastQTL (v8)', fontsize=12);\n",
    "b = [0.01, 0.1]\n",
    "ax[3].plot(b, [0.05, 0.05], 'k--')\n",
    "ax[3].plot([0.05, 0.05], b, 'k--')\n",
    "ax[3].set_xlim(b)\n",
    "ax[3].set_ylim(b)\n",
    "ax[3].set_xticks([0.01, 0.05, 0.1])\n",
    "ax[3].set_yticks([0.01, 0.05, 0.1]);"
   ]
  },
  {
   "cell_type": "code",
   "execution_count": 6,
   "id": "3730fa15",
   "metadata": {},
   "outputs": [
    {
     "name": "stdout",
     "output_type": "stream",
     "text": [
      "eGenes, v8 (all biotypes):   9082\n",
      "eGenes, rep. (all biotypes): 9072\n",
      "  * intersection:            9047 (99.6%)\n"
     ]
    }
   ],
   "source": [
    "# eGenes overlap\n",
    "egenes_v8 = egenes_v8_df[egenes_v8_df['qval'] <= 0.05].index\n",
    "egenes = cis_df[cis_df['qval'] <= 0.05].index\n",
    "ix = egenes[egenes.isin(egenes_v8)]\n",
    "print(f\"eGenes, v8 (all biotypes):   {len(egenes_v8)}\")\n",
    "print(f\"eGenes, rep. (all biotypes): {len(egenes)}\")\n",
    "print(f\"  * intersection:            {len(ix)} ({len(ix)/len(egenes_v8)*100:.1f}%)\")"
   ]
  },
  {
   "cell_type": "markdown",
   "id": "3c7855bb",
   "metadata": {},
   "source": [
    "#### Nominal associations"
   ]
  },
  {
   "cell_type": "code",
   "execution_count": 7,
   "id": "589b79e6",
   "metadata": {},
   "outputs": [
    {
     "name": "stdout",
     "output_type": "stream",
     "text": [
      "cis-QTL mapping: nominal associations for all variant-phenotype pairs\n",
      "  * 205 samples\n",
      "  * 986 phenotypes\n",
      "  * 38 covariates\n",
      "  * 10770860 variants\n",
      "  * checking phenotypes: 986/986\n",
      "  * Computing associations\n",
      "    Mapping chromosome chr9\n",
      "    processing phenotype 986/986\n",
      "    time elapsed: 0.19 min\n",
      "    * writing output\n",
      "done.\n"
     ]
    }
   ],
   "source": [
    "# nominal mode (limit to one chromosome for illustration purposes)\n",
    "chrom = 'chr9'\n",
    "m = phenotype_pos_df['chr'] == chrom\n",
    "cis.map_nominal(genotype_df, variant_df, phenotype_df[m], phenotype_pos_df[m], tissue_id,\n",
    "                covariates_df=covariates_df, output_dir='/mnt/disks/scratch/tmp/')\n",
    "nominal_df = pd.read_parquet(f'/mnt/disks/scratch/tmp/Brain_Cortex.cis_qtl_pairs.{chrom}.parquet')"
   ]
  },
  {
   "cell_type": "code",
   "execution_count": 8,
   "id": "2c24a1a3",
   "metadata": {},
   "outputs": [],
   "source": [
    "# load V8 summary statistics\n",
    "nominal_v8_df = pd.read_parquet(\n",
    "    f\"gs://gtex-resources/GTEx_Analysis_v8_QTLs/GTEx_Analysis_v8_eQTL_all_associations/{tissue_id}.v8.allpairs.parquet\")\n",
    "\n",
    "# subset chr9\n",
    "nominal_v8_df = nominal_v8_df[nominal_v8_df['variant_id'].str.startswith(chrom)]\n",
    "nominal_v8_df.reset_index(drop=True, inplace=True)\n",
    "\n",
    "# check that outputs are identical\n",
    "assert nominal_v8_df['gene_id'].equals(nominal_df['phenotype_id'])\n",
    "assert nominal_v8_df['variant_id'].equals(nominal_df['variant_id'])\n",
    "assert nominal_v8_df['tss_distance'].equals(nominal_df['tss_distance'])\n"
   ]
  },
  {
   "cell_type": "code",
   "execution_count": 9,
   "id": "7de95665",
   "metadata": {},
   "outputs": [
    {
     "data": {
      "image/png": "[encoded data removed]",
      "text/plain": [
       "<Figure size 198x198 with 1 Axes>"
      ]
     },
     "metadata": {
      "needs_background": "light"
     },
     "output_type": "display_data"
    }
   ],
   "source": [
    "# plot p-values\n",
    "ax = qtl.plot.get_axgrid(1, 1)[0]\n",
    "ax.set_xscale('log')\n",
    "ax.set_yscale('log')\n",
    "ax.scatter(nominal_v8_df['pval_nominal'], nominal_df['pval_nominal'], **args)\n",
    "ax.set_title('Nominal p-values', fontsize=12)\n",
    "ax.set_xlabel('FastQTL p-value', fontsize=12)\n",
    "ax.set_ylabel('TensorQTL p-value', fontsize=12);"
   ]
  }
 ],
 "metadata": {
  "kernelspec": {
   "display_name": "Python 3 (ipykernel)",
   "language": "python",
   "name": "python3"
  },
  "language_info": {
   "codemirror_mode": {
    "name": "ipython",
    "version": 3
   },
   "file_extension": ".py",
   "mimetype": "text/x-python",
   "name": "python",
   "nbconvert_exporter": "python",
   "pygments_lexer": "ipython3",
   "version": "3.9.13"
  }
 },
 "nbformat": 4,
 "nbformat_minor": 5
}
